{
 "cells": [
  {
   "cell_type": "markdown",
   "metadata": {},
   "source": [
    "## Homework 1"
   ]
  },
  {
   "cell_type": "markdown",
   "metadata": {},
   "source": [
    "## [題目]"
   ]
  },
  {
   "cell_type": "markdown",
   "metadata": {},
   "source": [
    "#1.定義一個opt函數,內含兩個引數x和y\n",
    "#2.定義函數內的兩個引數相加為wis\n",
    "#3.利用format印出\"引數兩者相加為wis\"\n",
    "#4.如果wis小於10,印出bot\n",
    "#5.否則如果wis大於等於10且y為3,印出match\n",
    "#6.否則非以上兩者情況,印出amp\n",
    "#7 令x=7、y=3 並輸出結果"
   ]
  },
  {
   "cell_type": "markdown",
   "metadata": {},
   "source": [
    "## [解答]"
   ]
  },
  {
   "cell_type": "code",
   "execution_count": 21,
   "metadata": {},
   "outputs": [],
   "source": [
    "def opt(x,y):\n",
    "    wis=x+y\n",
    "    print(\"{0}+{1}={2}\".format(x,y,wis))\n",
    "    if wis < 10:\n",
    "        print(\"bot\")\n",
    "    elif wis >=10 and (y==3):\n",
    "        print('match')\n",
    "    else: \n",
    "        print(\"amp\")"
   ]
  },
  {
   "cell_type": "code",
   "execution_count": 23,
   "metadata": {},
   "outputs": [
    {
     "name": "stdout",
     "output_type": "stream",
     "text": [
      "7+3=10\n",
      "match\n"
     ]
    }
   ],
   "source": [
    "opt(7,3)"
   ]
  }
 ],
 "metadata": {
  "kernelspec": {
   "display_name": "Python 3",
   "language": "python",
   "name": "python3"
  },
  "language_info": {
   "codemirror_mode": {
    "name": "ipython",
    "version": 3
   },
   "file_extension": ".py",
   "mimetype": "text/x-python",
   "name": "python",
   "nbconvert_exporter": "python",
   "pygments_lexer": "ipython3",
   "version": "3.6.2"
  }
 },
 "nbformat": 4,
 "nbformat_minor": 2
}
